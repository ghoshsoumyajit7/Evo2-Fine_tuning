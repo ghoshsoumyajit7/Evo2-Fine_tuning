{
 "cells": [
  {
   "cell_type": "code",
   "execution_count": 1,
   "metadata": {},
   "outputs": [],
   "source": [
    "import tempfile\n",
    "from pathlib import Path\n",
    "\n",
    "from bionemo.core.data.load import load"
   ]
  },
  {
   "cell_type": "code",
   "execution_count": 2,
   "metadata": {},
   "outputs": [
    {
     "name": "stderr",
     "output_type": "stream",
     "text": [
      "Downloading data from 'nvidia/clara/scdl_sample_test:1.0' to file '/tmp/tmp7nmjzz19/7a4237537bf535dfa00301ce8cc7073e0a23d5bc8aa902ad65db9f51b57a6df9-scdl_sample_test.tar.gz'.\n",
      "Untarring contents of '/tmp/tmp7nmjzz19/7a4237537bf535dfa00301ce8cc7073e0a23d5bc8aa902ad65db9f51b57a6df9-scdl_sample_test.tar.gz' to '/tmp/tmp7nmjzz19/7a4237537bf535dfa00301ce8cc7073e0a23d5bc8aa902ad65db9f51b57a6df9-scdl_sample_test.tar.gz.untar'\n"
     ]
    },
    {
     "name": "stdout",
     "output_type": "stream",
     "text": [
      "{\n",
      "    \"download_end\": \"2025-01-03 15:16:48\",\n",
      "    \"download_start\": \"2025-01-03 15:16:47\",\n",
      "    \"download_time\": \"0s\",\n",
      "    \"files_downloaded\": 1,\n",
      "    \"local_path\": \"/tmp/tmp7nmjzz19/tmpfuw2obcq/scdl_sample_test_v1.0\",\n",
      "    \"size_downloaded\": \"964.91 KB\",\n",
      "    \"status\": \"COMPLETED\"\n",
      "}\n"
     ]
    }
   ],
   "source": [
    "with tempfile.TemporaryDirectory() as cache_dir:\n",
    "    load(\"scdl/sample\", source=\"ngc\", cache_dir=Path(cache_dir))"
   ]
  }
 ],
 "metadata": {
  "kernelspec": {
   "display_name": "Python 3",
   "language": "python",
   "name": "python3"
  },
  "language_info": {
   "codemirror_mode": {
    "name": "ipython",
    "version": 3
   },
   "file_extension": ".py",
   "mimetype": "text/x-python",
   "name": "python",
   "nbconvert_exporter": "python",
   "pygments_lexer": "ipython3",
   "version": "3.12.3"
  }
 },
 "nbformat": 4,
 "nbformat_minor": 2
}
